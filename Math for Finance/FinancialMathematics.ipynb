{
 "cells": [
  {
   "attachments": {},
   "cell_type": "markdown",
   "metadata": {},
   "source": [
    "\n",
    "# Setting up the Notebook"
   ]
  },
  {
   "cell_type": "code",
   "execution_count": 1,
   "metadata": {},
   "outputs": [],
   "source": [
    "import numpy as np\n",
    "import pandas as pd\n",
    "import numpy_financial as npf\n"
   ]
  },
  {
   "attachments": {},
   "cell_type": "markdown",
   "metadata": {},
   "source": [
    "# Time Value of Money"
   ]
  },
  {
   "attachments": {},
   "cell_type": "markdown",
   "metadata": {},
   "source": [
    "\n",
    "## Effective Annual Rate (EAR)"
   ]
  },
  {
   "cell_type": "markdown",
   "metadata": {},
   "source": [
    "\n",
    "The stated annual rate ignores the effect of compounding and reports the interest rate as the interest  \n",
    "rate per period (the periodic interest rate) multiplied by the number of periods per annum. Thus, to  \n",
    "restate the interest rate as the rate which is effictively from a 1-year investement, the following equation  \n",
    "is assumed:  \n",
    "\n",
    "$\n",
    "EffictiveAnnualRate = (1 + \\frac{StatedAnnualRate}{m})^m - 1\n",
    "$,\n",
    "  \n",
    "where, $m$ is the number of periods per annum, and $\\frac{StatedAnnualRate}{m}$  \n",
    "is the __periodic interest rate__.  \n",
    "\n",
    "It is to be noted that the only case when the effective annual rate is equal to the stated annual  \n",
    "rate is when the period of compounding is equal to 1. [We have no mathematical proof of that in the moment!]"
   ]
  },
  {
   "attachments": {},
   "cell_type": "markdown",
   "metadata": {},
   "source": [
    "# Moving Money Through Time"
   ]
  },
  {
   "attachments": {},
   "cell_type": "markdown",
   "metadata": {},
   "source": [
    "## Future Value Formula"
   ]
  },
  {
   "attachments": {},
   "cell_type": "markdown",
   "metadata": {},
   "source": [
    "\n",
    "### Future Value of a Single Cash Flow"
   ]
  },
  {
   "cell_type": "markdown",
   "metadata": {},
   "source": [
    "\n",
    "The future value of a single cash flow when interest is compounded annually is calculated through  \n",
    "the following function:  \n",
    "\n",
    "$\n",
    "FV_N = PV \\cdot (1 + r)^N\n",
    "$,  \n",
    "\n",
    "where:  \n",
    "$PV$ is the present value of the investment,  \n",
    "$FV_N$ is the future value of the investment $N$ periods from now,  \n",
    "$r$ is the rate of interest per period, and  \n",
    "$N$ is the number of compounding periods.\n"
   ]
  },
  {
   "attachments": {},
   "cell_type": "markdown",
   "metadata": {},
   "source": [
    "### Future Value (Multiple Compounding Periods)"
   ]
  },
  {
   "cell_type": "markdown",
   "metadata": {},
   "source": [
    "\n",
    "Given a stated annual rate compounded a number of periods per annum, the following equation calculates  \n",
    "the future value of a single cash flow:  \n",
    "\n",
    "$\n",
    "FV_N = PV \\cdot (1 + \\frac{r_s}{m})^{mN}\n",
    "$,  \n",
    "where:  \n",
    "$r_s$ is the stated annual interest rate,  \n",
    "$m$ is the number of compounding periods per annum, and  \n",
    "$N$ is the number of years.\n",
    "\n",
    "Note that when $m = 1$, this formula is simplified to the one for calculating [future value of a single cash flow](#future-value-of-a-single-cash-flowa)."
   ]
  },
  {
   "attachments": {},
   "cell_type": "markdown",
   "metadata": {},
   "source": [
    "\n",
    "## Present Value of a Single Cash Flow"
   ]
  },
  {
   "attachments": {},
   "cell_type": "markdown",
   "metadata": {},
   "source": [
    "From the forumla of a future value fo a single cash flow, we deduce the formula for present  \n",
    "value of a single cash flow to be as follows:  \n",
    "\n",
    "$$\n",
    "PV = \\frac{FV_N}{(1 + \\frac{r_s}{m})^{mN}}\n",
    "$$,  \n",
    "\n",
    "where the variables are the same as in the [future value formula of a single cash flow](#future-value-formula).\n"
   ]
  },
  {
   "attachments": {},
   "cell_type": "markdown",
   "metadata": {},
   "source": [
    "## Moving Money Through Time"
   ]
  },
  {
   "attachments": {},
   "cell_type": "markdown",
   "metadata": {},
   "source": [
    "\n",
    "## The Effect of Compounding Frequency: Continuous Compounding"
   ]
  },
  {
   "attachments": {},
   "cell_type": "markdown",
   "metadata": {},
   "source": [
    "When the compounding frequency is assumed infinit, the follwoing formula computes the future value  \n",
    "of a made investment:  \n",
    "$\n",
    "FV_N = PV \\cdot \\mathrm{e}^{r_s N}\n",
    "$,  \n",
    "where:  \n",
    " * $PV$ is the investment made  \n",
    " * $\\mathrm{e}$ is the Euler number  \n",
    " * $r_s$ is the stated annual interest rate, and  \n",
    " * $N$ is the number of years of the investment."
   ]
  },
  {
   "attachments": {},
   "cell_type": "markdown",
   "metadata": {},
   "source": [
    "\n",
    "## Ordinary Annuities\n"
   ]
  },
  {
   "attachments": {},
   "cell_type": "markdown",
   "metadata": {},
   "source": [
    "\n",
    "### Future Value of Ordinary Annuity"
   ]
  },
  {
   "cell_type": "markdown",
   "metadata": {},
   "source": [
    "\n",
    "The future value of an ordinary annuity may be calculated using the following formula:  \n",
    "$\n",
    "FV_N = A (\\frac{(1 + r)^{N} - 1}{r})\n",
    "$,  \n",
    "where:  \n",
    " * $A$ is the annuity amount  \n",
    " * $r$ is the interest rate per period, and  \n",
    " * $N$ is the number of time periods.\n",
    "\n",
    " Note: the factore multiplied by the annuity amount in the above formula is called the  \n",
    " _future value annuity factor_, which expresses the future value of an ordinary annuity of 1  \n",
    " monetary unit per period."
   ]
  },
  {
   "attachments": {},
   "cell_type": "markdown",
   "metadata": {},
   "source": [
    "\n",
    "### Present Value of an Ordinary Annuity"
   ]
  },
  {
   "cell_type": "markdown",
   "metadata": {},
   "source": [
    "\n",
    "The present value of an ordinary annuity is calculated by the following formula:  \n",
    "$\n",
    "PV = A (\\frac{1 - \\frac{1}{(1+r)^{N}}}{r})\n",
    "$,  \n",
    "where:\n",
    "  * $A$ is the annuity amount  \n",
    "  * $r$ is the interst rate per period, and  \n",
    "  * $N$ is the number of time periods.\n",
    "\n",
    "Note: the factor multiplied by the annuity amount in the above formula is called  \n",
    "_present value annuity factor_, which expresess the present value of an ordinary  \n",
    "annuity of 1 monetary unit per period."
   ]
  },
  {
   "attachments": {},
   "cell_type": "markdown",
   "metadata": {},
   "source": [
    "\n",
    "## Annuities Due"
   ]
  },
  {
   "cell_type": "markdown",
   "metadata": {},
   "source": [
    "\n",
    "Annuities due are annuities for which the first cash flow is due at $t = 0$."
   ]
  },
  {
   "attachments": {},
   "cell_type": "markdown",
   "metadata": {},
   "source": [
    "\n",
    "### Future Value of an Annuity Due\n",
    "\n",
    "The future value of annuity due may be calculated as the future value after one period of the future value of an  \n",
    "ordinary annuity, thus:  \n",
    "$FV_{A_{Due}} = FV_{A_{Ordinary}} \\cdot (1 + r)$, which implies that  \n",
    "$FV_{A_{Due}} = A (\\frac{(1 + r)^{N} - 1}{r}) (1 + r)$."
   ]
  },
  {
   "attachments": {},
   "cell_type": "markdown",
   "metadata": {},
   "source": [
    "\n",
    "###  Present Value of an Annuity Due\n",
    "\n",
    "Similar to the future value of annuities calculation, the present value of an annuity due  \n",
    "can be calculated as follows:  \n",
    "$PV_{A_{Due}} = PV_{A_{Ordinary}} (1 + r)$, which implies  \n",
    "$PV_{A_{Due}} = A (\\frac{1 - \\frac{1}{(1+r)^{N}}}{r}) (1 + r)$.\n"
   ]
  },
  {
   "attachments": {},
   "cell_type": "markdown",
   "metadata": {},
   "source": [
    "\n",
    "## Perpetuities"
   ]
  },
  {
   "cell_type": "markdown",
   "metadata": {},
   "source": [
    "\n",
    "A perpetuity is an annuity is paid/received idefinitely (hypothetically)."
   ]
  },
  {
   "attachments": {},
   "cell_type": "markdown",
   "metadata": {},
   "source": [
    "\n",
    "### Present Value of a Perpetuity\n",
    "\n",
    "The present value of a perpetuity is calculated simply by the followign formula:  \n",
    "$PV_N = \\frac{A}{r}$, where  \n",
    "  * $A$ is the perpetuity payment, and  \n",
    "  * $r$ is the periodic rate of return."
   ]
  },
  {
   "attachments": {},
   "cell_type": "markdown",
   "metadata": {},
   "source": [
    "\n",
    "## Growing Perpetuities"
   ]
  },
  {
   "attachments": {},
   "cell_type": "markdown",
   "metadata": {},
   "source": [
    "A growing perpetuity is a a perpetuity which amount is increasing at a fixed (constant) rate.  \n",
    "\n",
    "We calculate the present value of a growing perpetuity usign the following formula:  \n",
    "$PV_{GrowingPerpetuity} = \\frac{C}{r -g}$, where  \n",
    "  * $C$ is the expected cash flow in period 1\n",
    "  * $r$ is the interest rate, and  \n",
    "  * $g$ is the constant growth rate per period."
   ]
  },
  {
   "attachments": {},
   "cell_type": "markdown",
   "metadata": {},
   "source": [
    "As the present value of a growing perpetuity function is not implemented in `NumPy`, we  \n",
    "implement it below."
   ]
  },
  {
   "cell_type": "code",
   "execution_count": 2,
   "metadata": {},
   "outputs": [],
   "source": [
    "def pv_gperpetuity(c, r, g):\n",
    "    return c / (r - g)\n"
   ]
  },
  {
   "attachments": {},
   "cell_type": "markdown",
   "metadata": {},
   "source": [
    "\n",
    "# NPV and IRR"
   ]
  },
  {
   "attachments": {},
   "cell_type": "markdown",
   "metadata": {},
   "source": [
    "\n",
    "## Net Present Value (NPV)"
   ]
  },
  {
   "cell_type": "markdown",
   "metadata": {},
   "source": [
    "\n",
    "The net present value is the difference between the present value of cash inflows and the preset  \n",
    "value of cash outflows. In other terms, net present value is the value created by carrying out  \n",
    "a certain investement.\n",
    "\n",
    "The net present value of an investment with cash flows represented as ${CF}_t$ where $t$ is n index  \n",
    "of a time period can be calculated as follows:  \n",
    "\n",
    "${NPV} = \\displaystyle\\sum_{t=0}^N {\\frac{{CF}_t}{(1 + r)^t}}$  \n",
    "  \n",
    "where:  \n",
    "  * $CF_t$ is the expected cash flow at time t\n",
    "  * $N$ is the projected life of the investment, and  \n",
    "  * $r$ is the discount rate (opportunity cost of capit)."
   ]
  },
  {
   "attachments": {},
   "cell_type": "markdown",
   "metadata": {},
   "source": [
    "\n",
    "## Internal Rate of Return (IRR)"
   ]
  },
  {
   "cell_type": "markdown",
   "metadata": {},
   "source": [
    "\n",
    "The internal rate of return is the discount rate that sets the NPV to 0; thus it satisfies being:  \n",
    "  * the annual rate of return that the investment is expected to generate\n",
    "  * independent of the interest rates offered by the economy, and  \n",
    "  * dependent on the project's cash flows only.\n",
    "\n",
    "Expressed algebraically, the IRR satisfies the following equation:  \n",
    "\n",
    "$\\displaystyle\\sum_{t=0}^{N} \\frac {{CF}_t} {(1 + {IRR})^t} = 0$, where:  \n",
    "  * ${CF}_t$ is the project's future cash flows, and  \n",
    "  * ${IRR}$ is the internal rate of return.\n"
   ]
  },
  {
   "attachments": {},
   "cell_type": "markdown",
   "metadata": {},
   "source": [
    "\n",
    "# Return Measures"
   ]
  },
  {
   "cell_type": "markdown",
   "metadata": {},
   "source": [
    "\n",
    "Return measures quantify the return of a an investment accross a past time window; separtated  \n",
    "to single-period and multiple-period returns, single-period (holding period) returns are easy  \n",
    "to calculate and has a primary method to optain it. While multiple-period returns has multiple  \n",
    "methods which are further discussed later."
   ]
  },
  {
   "attachments": {},
   "cell_type": "markdown",
   "metadata": {},
   "source": [
    "\n",
    "## The Holding Period Return"
   ]
  },
  {
   "cell_type": "markdown",
   "metadata": {},
   "source": [
    "\n",
    "### Single-period Return\n",
    "\n",
    "The holding period return is calculated as the percentage total return earned on  \n",
    "an investment over the holding period of an investment. Thus, it is given by:  \n",
    "\n",
    "$$\\displaystyle\n",
    "  {HPR} = \\frac{{EndingValue} - {BeginningValue} + {Cash Inflows}}{BeginningValue} = \n",
    "    (\\frac{EndingValue}{BeginningValue} - 1) + \\frac{CashInflows}{BeginningValue}\n",
    "$$,  \n",
    "that is assuming a single period. And if no _cash inflows_ are recevied within this  \n",
    "period, the formula simplifies to be as follows:  \n",
    "$$\\displaystyle\n",
    "  {HPR} = \\frac{EndignValue - BeginningValue}{BeginningValue}\n",
    "$$."
   ]
  },
  {
   "attachments": {},
   "cell_type": "markdown",
   "metadata": {},
   "source": [
    "\n",
    "### Multiple Periods Return\n",
    "Over multiple periods, and assuming two periods for simplicity, the holding period  \n",
    "return of an investment is the return of the first period compounded at the rate  \n",
    "of the second period, as follows:\n",
    "\n",
    "$$\\displaystyle\n",
    "{HRP} = (1 + R_1) \\cdot (1 + R_2) - 1\n",
    "$$\n",
    "where $R_i$ is the annual return in year $i$, $i  \\in \\mathbb{Z}^+$."
   ]
  },
  {
   "attachments": {},
   "cell_type": "markdown",
   "metadata": {},
   "source": [
    "\n",
    "## The Logarithmic Return"
   ]
  },
  {
   "cell_type": "markdown",
   "metadata": {},
   "source": [
    "\n",
    "Assuming an infinite compounding frequency, the future value of an investment  \n",
    "of present value $PV$, is calculated as see [continuous compounding](#the-effect-of-compounding-frequency-continuous-compounding):  \n",
    "\n",
    "$$PV_N = {PV} e^{r_s}$$  \n",
    "\n",
    "and solving for $r_s$ (the continuously compounded return, also known as the  \n",
    "Logarithmic Return), we conclude that:  \n",
    "\n",
    "$$\n",
    "R_{log} = \\ln{\\frac{PV_N}{FV}}\n",
    "$$.\n",
    "\n",
    "Advantages:  \n",
    "  * Considers the effect of compounding, and  \n",
    "  * Time-additive.\n",
    "\n",
    "Disadvantages:  \n",
    "  * Not intuitive \n",
    "  * Useful for very short time periods only, and  \n",
    "  * Not asset-additive."
   ]
  },
  {
   "attachments": {},
   "cell_type": "markdown",
   "metadata": {},
   "source": [
    "\n",
    "### Explaing the Non-Additivity of Logarithmic Returns"
   ]
  },
  {
   "attachments": {},
   "cell_type": "markdown",
   "metadata": {},
   "source": [
    "Several investment assets combined as a portfolio, has a _portfolio return_  \n",
    "calculated as the weighted average of the holding period assest returns, which  \n",
    "is presented as follows: \n",
    "$$\\displaystyle\n",
    "    R_p = \\sum_{i=1}^{N}{{w_i}{R_i}}\n",
    "$$\n",
    "\n",
    "such that:  \n",
    "$$\\displaystyle\n",
    "    \\sum_{i=1}^{N}{w_i} = 1\n",
    "$$\n",
    "\n",
    "and where:  \n",
    "  * $R_i$ is the return of asset $i$\n",
    "  * $w$ is the asset's weight in the portfolio.\n",
    "\n",
    "Since log returns are equivalent to _continuously compounded returns_, adding two  \n",
    "such rates is equivalent to compounding them!"
   ]
  },
  {
   "attachments": {},
   "cell_type": "markdown",
   "metadata": {},
   "source": [
    "\n",
    "## Arithmetic and Geometric Mean Returns"
   ]
  },
  {
   "attachments": {},
   "cell_type": "markdown",
   "metadata": {},
   "source": [
    "\n",
    "### The Arithmetic Mean Return\n",
    "\n",
    "The arithmetic mean return is the arithmetic average of the single-period holding period  \n",
    "return rates of all the periods the investment is held, calculated by the following equation:  \n",
    "$$\\displaystyle\n",
    "  \\bar{R}_i = \\frac{1}{T} \\sum_{t=1}^{T}{R_{it}}\n",
    "$$, where:  \n",
    "  * $R$ is the return in a given period $t$, and  \n",
    "  * $T$ is the total number of periods."
   ]
  },
  {
   "attachments": {},
   "cell_type": "markdown",
   "metadata": {},
   "source": [
    "\n",
    "### The Geometric Mean Return\n",
    "\n",
    "While the [arithementic mean](#arithmetic-and-geometric-mean-returns) assumes fixed amount invested, and thus  \n",
    "not accounting for the compounding effect, the geometric mean return does; calculated as follows:  \n",
    "$$\\displaystyle\n",
    "  \\bar{R}_{Gi} = \\sqrt[T]{\\prod_{t=1}^T (1 + R_{it})} - 1\n",
    "$$, where:  \n",
    "  * $\\bar{R_{Gi}}$ is the geometric mean return\n",
    "  * $R_{it}$ is the return in period $t$, and  \n",
    "  * $T$ is the total number of periods.\n",
    "\n",
    "_Note: the arithmetic and geometric mean returns are equal iff the holding-period returns  \n",
    "are equal!_\n"
   ]
  },
  {
   "attachments": {},
   "cell_type": "markdown",
   "metadata": {},
   "source": [
    "\n",
    "## Money-weighted Rate of Return"
   ]
  },
  {
   "attachments": {},
   "cell_type": "markdown",
   "metadata": {},
   "source": [
    "In the investment management context, the money-weighted rate  \n",
    "of return is equivalent to the internal rate of return (IRR).\n",
    "\n",
    "Refer to section on [internal rate of return](#internal-rate-of-return-irr) for further explanation."
   ]
  },
  {
   "attachments": {},
   "cell_type": "markdown",
   "metadata": {},
   "source": [
    "\n",
    "## Time-weighted Rate of Return"
   ]
  },
  {
   "attachments": {},
   "cell_type": "markdown",
   "metadata": {},
   "source": [
    "The time-weighted rate of return at which 1 monetary unit compounds over a given timeframe,  \n",
    "and is calculated as the geometric mean of the holding period return for each sub-period of  \n",
    "the total period the investment is held."
   ]
  },
  {
   "attachments": {},
   "cell_type": "markdown",
   "metadata": {},
   "source": [
    "\n",
    "# Bond Pricing and Yields"
   ]
  },
  {
   "attachments": {},
   "cell_type": "markdown",
   "metadata": {},
   "source": [
    "\n",
    "## Fixed Income Securities (Yield Measures)"
   ]
  },
  {
   "attachments": {},
   "cell_type": "markdown",
   "metadata": {},
   "source": [
    "\n",
    "### Yield to Maturity (YTM)"
   ]
  },
  {
   "cell_type": "markdown",
   "metadata": {},
   "source": [
    "\n",
    "Also known as the yield to redemption, the yield to maturity of a bond is  \n",
    "the return an investor receives if a bond is purchased at a given point in  \n",
    "time and held until it's maturity.\n",
    "\n",
    "Considered the expected rate of return for a bond, the yield to maturity is  \n",
    "the interest rate at which the discounted cash flows of the bond reflect the  \n",
    "current price of the bond."
   ]
  },
  {
   "attachments": {},
   "cell_type": "markdown",
   "metadata": {},
   "source": [
    "\n",
    "### The Current Yield"
   ]
  },
  {
   "cell_type": "markdown",
   "metadata": {},
   "source": [
    "\n",
    "The current yield is the ratio of annual coupon payments to the current price  \n",
    "of the bond presented as a percentage."
   ]
  },
  {
   "attachments": {},
   "cell_type": "markdown",
   "metadata": {},
   "source": [
    "\n",
    "### Bonds Main Features Definitions"
   ]
  },
  {
   "cell_type": "markdown",
   "metadata": {},
   "source": [
    "\n",
    "|Feature|Description|\n",
    "|- |- |\n",
    "|Bond Issuer|The borrower|\n",
    "|Maturity Date|Final principal repayment date|\n",
    "|Par/Face Value|Principal value|\n",
    "|Coupon Rate|Annual interest percent on the par value|\n",
    "|Coupon Frequency|Number of payments per year|\n",
    "|Yield to Maturity (YTM)|The annual return if you purchased the bond today and hold it until maturity|\n",
    "|Current Yield|The sum of the coupon payments received over the year divided by the current price|"
   ]
  },
  {
   "attachments": {},
   "cell_type": "markdown",
   "metadata": {},
   "source": [
    "\n",
    "## Par Value"
   ]
  },
  {
   "cell_type": "markdown",
   "metadata": {},
   "source": [
    "\n",
    "Par value of a bond is the amount agreed to be repaid to investors at maturity.\n",
    "\n",
    "Synonyms to the term \"par value\" include:  \n",
    "  * Face Value\n",
    "  * Nominal Value\n",
    "  * Maturity\n",
    "  * Redemption Value.\n",
    "\n",
    "Factors affecting the price of a bond include:  \n",
    "  * Credit risk\n",
    "  * Bond's supply and demand\n",
    "  * Level of interest rates in the economy."
   ]
  },
  {
   "attachments": {},
   "cell_type": "markdown",
   "metadata": {},
   "source": [
    "\n",
    "## Bond Valuation"
   ]
  },
  {
   "attachments": {},
   "cell_type": "markdown",
   "metadata": {},
   "source": [
    "A bond's price is calculated as the present value of it's expected coupon payments   \n",
    "through it's holding period and the principal (face value) to be received at the redemption  \n",
    "date."
   ]
  },
  {
   "attachments": {},
   "cell_type": "markdown",
   "metadata": {},
   "source": [
    "## Bond Yield"
   ]
  },
  {
   "attachments": {},
   "cell_type": "markdown",
   "metadata": {},
   "source": [
    "A bond's yield is the actual bond's return if it is held to maturity"
   ]
  },
  {
   "attachments": {},
   "cell_type": "markdown",
   "metadata": {},
   "source": [
    "### Coupon Yield"
   ]
  },
  {
   "attachments": {},
   "cell_type": "markdown",
   "metadata": {},
   "source": [
    "Coupon yield is the annual interest rate, w.r.t the face value of the bond, investors  \n",
    "expects to receive as they hold the bond. Thus, calculated as:  \n",
    "$$\\displaystyle\n",
    "    CouponYield = \\frac{AnnualCouponPayment}{BondFaceValue}\n",
    "$$"
   ]
  },
  {
   "attachments": {},
   "cell_type": "markdown",
   "metadata": {},
   "source": [
    "### Current Yield"
   ]
  },
  {
   "attachments": {},
   "cell_type": "markdown",
   "metadata": {},
   "source": [
    "The current yield is the annual interest rate, w.r.t. the bonds _current market price_,  \n",
    "expected to be received as the bond is held to it's maturity date. Thus calculated as:  \n",
    "$$\\displaystyle\n",
    "    CurrentYield = \\frac{AnnualCouponPayment}{CurrentBondPrice}\n",
    "$$"
   ]
  },
  {
   "attachments": {},
   "cell_type": "markdown",
   "metadata": {},
   "source": [
    "### Yield-to-Maturity (YTM)"
   ]
  },
  {
   "attachments": {},
   "cell_type": "markdown",
   "metadata": {},
   "source": [
    "Yield to maturity (also known as the yield to redemption) is the return (w.r.t. to the  \n",
    "bond's current market price) investors expect to receive if they hold the bond to maturity.\n",
    "\n",
    "Thus, YTM satisfies the following equation:  \n",
    "$$\\displaystyle\n",
    "    Price = \\sum_{i=t}^{T}{\\frac{CF_i}{(1 + YTM)^i}}\n",
    "$$"
   ]
  },
  {
   "attachments": {},
   "cell_type": "markdown",
   "metadata": {},
   "source": [
    "## Bank Discount Yield"
   ]
  },
  {
   "attachments": {},
   "cell_type": "markdown",
   "metadata": {},
   "source": [
    "### Definitions\n",
    "\n",
    "Money market is the market where short-term debt instruments (of one-year maturity)  \n",
    "or less are traded.\n",
    "\n",
    "Bank discount basis is the annualized yield stated as a percentage determined by using a  \n",
    "30-day month and 360-day year."
   ]
  },
  {
   "attachments": {},
   "cell_type": "markdown",
   "metadata": {},
   "source": [
    "Bank discount yield is calculated using the following formula:  \n",
    "$$\\displaystyle\n",
    "    r_{BD} = \\frac{D}{F} \\cdot \\frac{360}{t}\n",
    "$$\n",
    "where:\n",
    "  * $r_{BD}$: Annulized yield on a bank discount basis\n",
    "  * $D$: Dollar discount\n",
    "  * $F$: Face value of the instrument\n",
    "  * $t$: Number of days remaining to maturity\n",
    "  * 360: Number of days in a year used as a banking conversion."
   ]
  },
  {
   "attachments": {},
   "cell_type": "markdown",
   "metadata": {},
   "source": [
    "## Money Market Insturments (Yield Measures)"
   ]
  },
  {
   "attachments": {},
   "cell_type": "markdown",
   "metadata": {},
   "source": [
    "### Holding Period Yield (HPY)"
   ]
  },
  {
   "attachments": {},
   "cell_type": "markdown",
   "metadata": {},
   "source": [
    "The holding period yield is the total return that an investor earns over the holding  \n",
    "period of an instrument. Calculated as:  \n",
    "$$\\displaystyle\n",
    "    HPY = \\frac{P_1 - P_0 + D_1}{P_0}\n",
    "$$\n",
    "where:  \n",
    "  * $P_0$: Initial purchase price of the instrument\n",
    "  * $P_1$: Price received for the instrument at maturity\n",
    "  * $D_1$: Interest payment paid.\n",
    "\n",
    "Note: For pure discount instruments: $D_1 = 0$.\n"
   ]
  },
  {
   "attachments": {},
   "cell_type": "markdown",
   "metadata": {},
   "source": [
    "### Effective Annual Yield (EAY)"
   ]
  },
  {
   "attachments": {},
   "cell_type": "markdown",
   "metadata": {},
   "source": [
    "The effective annual yield is the annualized HPY on a 365-day year basis.\n",
    "Calculated as follows:  \n",
    "$$\\displaystyle\n",
    "    EAY = (1 + HPY)^{\\frac{365}{t}} - 1\n",
    "$$\n",
    "where:  \n",
    "  * $HPY$: Holding period yield\n",
    "  * $t$: Time to maturity."
   ]
  },
  {
   "attachments": {},
   "cell_type": "markdown",
   "metadata": {},
   "source": [
    "### Money Market Yield"
   ]
  },
  {
   "attachments": {},
   "cell_type": "markdown",
   "metadata": {},
   "source": [
    "The general way to calculate the money market yield is as follows:  \n",
    "$$\\displaystyle\n",
    "    r_{mm} = HPY \\cdot \\frac{360}{t}\n",
    "$$\n",
    "where:  \n",
    "  * $HPY$: Holding period yield\n",
    "  * $t$: Time to maturity.\n",
    "\n",
    "If the bank discount yield is known in advance, the following expression  \n",
    "is more straight forward:  \n",
    "$$\\displaystyle\n",
    "  r_{mm} = \\frac{360 \\cdot r_{BD}}{360 - t \\cdot r_BD}\n",
    "$$\n",
    "where:  \n",
    "  * $r_{mm}$: Bank discount yield\n",
    "  * $t$: Time to maturity."
   ]
  }
 ],
 "metadata": {
  "kernelspec": {
   "display_name": "Python 3",
   "language": "python",
   "name": "python3"
  },
  "language_info": {
   "codemirror_mode": {
    "name": "ipython",
    "version": 3
   },
   "file_extension": ".py",
   "mimetype": "text/x-python",
   "name": "python",
   "nbconvert_exporter": "python",
   "pygments_lexer": "ipython3",
   "version": "3.11.2"
  },
  "orig_nbformat": 4
 },
 "nbformat": 4,
 "nbformat_minor": 2
}
