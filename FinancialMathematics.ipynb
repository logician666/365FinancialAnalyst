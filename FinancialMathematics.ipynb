{
 "cells": [
  {
   "attachments": {},
   "cell_type": "markdown",
   "metadata": {},
   "source": [
    "\n",
    "# Setting up the Notebook"
   ]
  },
  {
   "cell_type": "code",
   "execution_count": 12,
   "metadata": {},
   "outputs": [],
   "source": [
    "import numpy as np\n",
    "import pandas as pd\n",
    "import numpy_financial as npf"
   ]
  },
  {
   "attachments": {},
   "cell_type": "markdown",
   "metadata": {},
   "source": [
    "# Time Value of Money"
   ]
  },
  {
   "attachments": {},
   "cell_type": "markdown",
   "metadata": {},
   "source": [
    "## Effective Annual Rate (EAR)\n",
    "\n",
    "The stated annual rate ignores the effect of compounding and reports the interest rate as the interest  \n",
    "rate per period (the periodic interest rate) multiplied by the number of periods per annum. Thus, to  \n",
    "restate the interest rate as the rate which is effictively from a 1-year investement, the following equation  \n",
    "is assumed:  \n",
    "\n",
    "$\n",
    "EffictiveAnnualRate = (1 + \\frac{StatedAnnualRate}{m})^m - 1\n",
    "$,\n",
    "  \n",
    "where, $m$ is the number of periods per annum, and $\\frac{StatedAnnualRate}{m}$  \n",
    "is the __periodic interest rate__.  \n",
    "\n",
    "It is to be noted that the only case when the effective annual rate is equal to the stated annual  \n",
    "rate is when the period of compounding is equal to 1. [We have no mathematical proof of that in the moment!]"
   ]
  },
  {
   "attachments": {},
   "cell_type": "markdown",
   "metadata": {},
   "source": [
    "# Moving Money Through Time"
   ]
  },
  {
   "attachments": {},
   "cell_type": "markdown",
   "metadata": {},
   "source": [
    "## Future Value Formula"
   ]
  },
  {
   "attachments": {},
   "cell_type": "markdown",
   "metadata": {},
   "source": [
    "\n",
    "### Future Value of a Single Cash Flow\n",
    "The future value of a single cash flow when interest is compounded annually is calculated through  \n",
    "the following function:  \n",
    "\n",
    "$\n",
    "FV_N = PV \\cdot (1 + r)^N\n",
    "$,  \n",
    "\n",
    "where:  \n",
    "$PV$ is the present value of the investment,  \n",
    "$FV_N$ is the future value of the investment $N$ periods from now,  \n",
    "$r$ is the rate of interest per period, and  \n",
    "$N$ is the number of compounding periods.\n"
   ]
  },
  {
   "attachments": {},
   "cell_type": "markdown",
   "metadata": {},
   "source": [
    "### Future Value (Multiple Compounding Periods)\n",
    "Given a stated annual rate compounded a number of periods per annum, the following equation calculates  \n",
    "the future value of a single cash flow:  \n",
    "\n",
    "$\n",
    "FV_N = PV \\cdot (1 + \\frac{r_s}{m})^{mN}\n",
    "$,  \n",
    "where:  \n",
    "$r_s$ is the stated annual interest rate,  \n",
    "$m$ is the number of compounding periods per annum, and  \n",
    "$N$ is the number of years.\n",
    "\n",
    "Note that when $m = 1$, this formula is simplified to the one for calculating [future value of a single cash flow](#future-value-of-a-single-cash-flowa)."
   ]
  },
  {
   "attachments": {},
   "cell_type": "markdown",
   "metadata": {},
   "source": [
    "\n",
    "## Present Value of a Single Cash Flow"
   ]
  },
  {
   "attachments": {},
   "cell_type": "markdown",
   "metadata": {},
   "source": [
    "From the forumla of a future value fo a single cash flow, we deduce the formula for present  \n",
    "value of a single cash flow to be as follows:  \n",
    "\n",
    "$$\n",
    "PV = \\frac{FV_N}{(1 + \\frac{r_s}{m})^{mN}}\n",
    "$$,  \n",
    "\n",
    "where the variables are the same as in the [future value formula of a single cash flow](#future-value-formula).\n"
   ]
  },
  {
   "attachments": {},
   "cell_type": "markdown",
   "metadata": {},
   "source": [
    "## Moving Money Through Time"
   ]
  },
  {
   "attachments": {},
   "cell_type": "markdown",
   "metadata": {},
   "source": [
    "\n",
    "## The Effect of Compounding Frequency: Continuous Compounding"
   ]
  },
  {
   "cell_type": "markdown",
   "metadata": {},
   "source": [
    "\n",
    "When the compounding frequency is assumed infinit, the follwoing formula computes the future value  \n",
    "of a made investment:  \n",
    "$\n",
    "FV_N = PV \\cdot \\mathrm{e}^{r_s N}\n",
    "$,  \n",
    "where:  \n",
    " * $PV$ is the investment made  \n",
    " * $\\mathrm{e}$ is the Euler number  \n",
    " * $r_s$ is the stated annual interest rate, and  \n",
    " * $N$ is the number of years of the investment."
   ]
  },
  {
   "attachments": {},
   "cell_type": "markdown",
   "metadata": {},
   "source": [
    "\n",
    "## Ordinary Annuities\n"
   ]
  },
  {
   "attachments": {},
   "cell_type": "markdown",
   "metadata": {},
   "source": [
    "\n",
    "### Future Value of Ordinary Annuity\n",
    "\n",
    "The future value of an ordinary annuity may be calculated using the following formula:  \n",
    "$\n",
    "FV_N = A (\\frac{(1 + r)^{N} - 1}{r})\n",
    "$,  \n",
    "where:  \n",
    " * $A$ is the annuity amount  \n",
    " * $r$ is the interest rate per period, and  \n",
    " * $N$ is the number of time periods.\n",
    "\n",
    " Note: the factore multiplied by the annuity amount in the above formula is called the  \n",
    " _future value annuity factor_, which expresses the future value of an ordinary annuity of 1  \n",
    " monetary unit per period."
   ]
  },
  {
   "attachments": {},
   "cell_type": "markdown",
   "metadata": {},
   "source": [
    "\n",
    "### Present Value of an Ordinary Annuity\n",
    "\n",
    "The present value of an ordinary annuity is calculated by the following formula:  \n",
    "$\n",
    "PV = A (\\frac{1 - \\frac{1}{(1+r)^{N}}}{r})\n",
    "$,  \n",
    "where:\n",
    "  * $A$ is the annuity amount  \n",
    "  * $r$ is the interst rate per period, and  \n",
    "  * $N$ is the number of time periods.\n",
    "\n",
    "Note: the factor multiplied by the annuity amount in the above formula is called  \n",
    "_present value annuity factor_, which expresess the present value of an ordinary  \n",
    "annuity of 1 monetary unit per period."
   ]
  },
  {
   "attachments": {},
   "cell_type": "markdown",
   "metadata": {},
   "source": [
    "\n",
    "## Annuities Due\n",
    "\n",
    "Annuities due are annuities for which the first cash flow is due at $t = 0$."
   ]
  },
  {
   "attachments": {},
   "cell_type": "markdown",
   "metadata": {},
   "source": [
    "\n",
    "### Future Value of an Annuity Due\n",
    "\n",
    "The future value of annuity due may be calculated as the future value after one period of the future value of an  \n",
    "ordinary annuity, thus:  \n",
    "$FV_{A_{Due}} = FV_{A_{Ordinary}} \\cdot (1 + r)$, which implies that  \n",
    "$FV_{A_{Due}} = A (\\frac{(1 + r)^{N} - 1}{r}) (1 + r)$."
   ]
  },
  {
   "attachments": {},
   "cell_type": "markdown",
   "metadata": {},
   "source": [
    "\n",
    "###  Present Value of an Annuity Due\n",
    "\n",
    "Similar to the future value of annuities calculation, the present value of an annuity due  \n",
    "can be calculated as follows:  \n",
    "$PV_{A_{Due}} = PV_{A_{Ordinary}} (1 + r)$, which implies  \n",
    "$PV_{A_{Due}} = A (\\frac{1 - \\frac{1}{(1+r)^{N}}}{r}) (1 + r)$.\n"
   ]
  },
  {
   "attachments": {},
   "cell_type": "markdown",
   "metadata": {},
   "source": [
    "\n",
    "## Perpetuities\n",
    "\n",
    "A perpetuity is an annuity is paid/received idefinitely (hypothetically)."
   ]
  },
  {
   "attachments": {},
   "cell_type": "markdown",
   "metadata": {},
   "source": [
    "\n",
    "### Present Value of a Perpetuity\n",
    "\n",
    "The present value of a perpetuity is calculated simply by the followign formula:  \n",
    "$PV_N = \\frac{A}{r}$, where  \n",
    "  * $A$ is the perpetuity payment, and  \n",
    "  * $r$ is the periodic rate of return."
   ]
  },
  {
   "attachments": {},
   "cell_type": "markdown",
   "metadata": {},
   "source": [
    "\n",
    "## Growing Perpetuities"
   ]
  },
  {
   "attachments": {},
   "cell_type": "markdown",
   "metadata": {},
   "source": [
    "A growing perpetuity is a a perpetuity which amount is increasing at a fixed (constant) rate.  \n",
    "\n",
    "We calculate the present value of a growing perpetuity usign the following formula:  \n",
    "$PV_{GrowingPerpetuity} = \\frac{C}{r -g}$, where  \n",
    "  * $C$ is the expected cash flow in period 1\n",
    "  * $r$ is the interest rate, and  \n",
    "  * $g$ is the constant growth rate per period."
   ]
  },
  {
   "attachments": {},
   "cell_type": "markdown",
   "metadata": {},
   "source": [
    "As the present value of a growing perpetuity function is not implemented in `NumPy`, we  \n",
    "implement it below."
   ]
  },
  {
   "cell_type": "code",
   "execution_count": 13,
   "metadata": {},
   "outputs": [],
   "source": [
    "def pv_gperpetuity(c, r, g):\n",
    "    return c / (r - g)"
   ]
  },
  {
   "attachments": {},
   "cell_type": "markdown",
   "metadata": {},
   "source": [
    "\n",
    "# NPV and IRR"
   ]
  },
  {
   "attachments": {},
   "cell_type": "markdown",
   "metadata": {},
   "source": [
    "\n",
    "## Net Present Value (NPV)\n",
    "\n",
    "The net present value is the difference between the present value of cash inflows and the preset  \n",
    "value of cash outflows. In other terms, net present value is the value created by carrying out  \n",
    "a certain investement.\n",
    "\n",
    "The net present value of an investment with cash flows represented as ${CF}_t$ where $t$ is n index  \n",
    "of a time period can be calculated as follows:  \n",
    "\n",
    "${NPV} = \\displaystyle\\sum_{t=0}^N {\\frac{{CF}_t}{(1 + r)^t}}$  \n",
    "  \n",
    "where:  \n",
    "  * $CF_t$ is the expected cash flow at time t\n",
    "  * $N$ is the projected life of the investment, and  \n",
    "  * $r$ is the discount rate (opportunity cost of capit)."
   ]
  },
  {
   "attachments": {},
   "cell_type": "markdown",
   "metadata": {},
   "source": [
    "\n",
    "## Internal Rate of Return (IRR)\n",
    "\n",
    "The internal rate of return is the discount rate that sets the NPV to 0; thus it satisfies being:  \n",
    "  * the annual rate of return that the investment is expected to generate\n",
    "  * independent of the interest rates offered by the economy, and  \n",
    "  * dependent on the project's cash flows only.\n",
    "\n",
    "Expressed algebraically, the IRR satisfies the following equation:  \n",
    "\n",
    "$\\displaystyle\\sum_{t=0}^{N} \\frac {{CF}_t} {(1 + {IRR})^t} = 0$, where:  \n",
    "  * ${CF}_t$ is the project's future cash flows, and  \n",
    "  * ${IRR}$ is the internal rate of return.\n"
   ]
  },
  {
   "attachments": {},
   "cell_type": "markdown",
   "metadata": {},
   "source": [
    "\n",
    "# Return Measures\n",
    "\n",
    "Return measures quantify the return of a an investment accross a past time window; separtated  \n",
    "to single-period and multiple-period returns, single-period (holding period) returns are easy  \n",
    "to calculate and has a primary method to optain it. While multiple-period returns has multiple  \n",
    "methods which are further discussed later."
   ]
  },
  {
   "attachments": {},
   "cell_type": "markdown",
   "metadata": {},
   "source": [
    "\n",
    "## The Holding Period Return (Single-period Return)\n",
    "\n",
    "The holding period return is calculated as the percentage change in value earned on  \n",
    "an investment over the holding period of an investment. Thus, it is given by:  \n",
    "\n",
    "$\\displaystyle\n",
    "{HPR} = \\frac{{EndingValue} - {BeginningValue} + {Cash Inflows}}{BeginningValue} = \n",
    "    (\\frac{EndingValue}{BeginningValue} - 1) + \\frac{CashInflows}{BeginningValue}\n",
    "$,  \n",
    "that is assuming a single period.\n",
    "\n",
    "Over multiple periods, and assuming two periods for simplicity, the holding period  \n",
    "return of an investment is the return of the first period compounded at the rate  \n",
    "of the second period, as follows:\n",
    "\n",
    "$\\displaystyle\n",
    "{HRP} = [(1 + R_1) \\cdot (1 + R_2)] - 1\n",
    "$, where:  \n",
    "  * $R_i$ is the annual return in year $i$, $i  \\in \\mathbb{Z}^+$ \n"
   ]
  },
  {
   "attachments": {},
   "cell_type": "markdown",
   "metadata": {},
   "source": [
    "\n",
    "## The Logarithmic Return\n",
    "\n",
    "Assuming an infinite compounding frequency, the future value of an investment  \n",
    "of present value $PV$, is calculated as see [continuous compounding](#the-effect-of-compounding-frequency-continuous-compounding):  \n",
    "\n",
    "$PV_N = {PV} e^{r_s}$,  \n",
    "and solving for $r_s$ (the continuously compounded return, also known as the  \n",
    "Logarithmic Return), we conclude that:  \n",
    "\n",
    "$$\n",
    "R_{log} = \\ln{\\frac{PV_N}{FV}}\n",
    "$$.\n",
    "\n",
    "Advantages:  \n",
    "  * Considers the effect of compounding, and  \n",
    "  * Time-additive.\n",
    "\n",
    "Disadvantages:  \n",
    "  * Not intuitive \n",
    "  * Useful for very short time periods only, and  \n",
    "  * Not asset-additive."
   ]
  },
  {
   "attachments": {},
   "cell_type": "markdown",
   "metadata": {},
   "source": [
    "\n",
    "## Arithmetic and Geometric Mean Returns"
   ]
  },
  {
   "attachments": {},
   "cell_type": "markdown",
   "metadata": {},
   "source": [
    "\n",
    "### The Arithmetic Mean Return\n",
    "\n",
    "The arithmetic mean return is the arithmetic average of the single-period holding period  \n",
    "return rates of all the periods the investment is held, calculated by the following equation:  \n",
    "$$\n",
    "\\bar{R_i} = \\frac{1}{T} \\sum_{t=1}^{T}{R_{it}}\n",
    "$$, where:  \n",
    "  * $R$ is the return in a given period $t$, and  \n",
    "  * $T$ is the total number of periods."
   ]
  },
  {
   "attachments": {},
   "cell_type": "markdown",
   "metadata": {},
   "source": [
    "\n",
    "### The Geometric Mean Return\n",
    "\n",
    "While the [arithementic mean](#arithmetic-and-geometric-mean-returns) assumes fixed  \n",
    "amount invested, and thus not accounting for the compounding effect, the geometric  \n",
    "mean return does; calculated as follows:  \n",
    "$$\n",
    "\\bar{R_{Gi}} = \\sqrt[T]{\\prod_{t=1}^T (1 + R_{it})} - 1\n",
    "$$, where:  \n",
    "  * $\\bar{R_{Gi}}$ is the geometric mean return\n",
    "  * $R_{it}$ is the return in period $t$, and  \n",
    "  * $T$ is the total number of periods.\n",
    "\n",
    "_Note: the arithmetic and geometric mean returns are equal iff the holding-period returns  \n",
    "are equal!_\n"
   ]
  }
 ],
 "metadata": {
  "kernelspec": {
   "display_name": "Python 3",
   "language": "python",
   "name": "python3"
  },
  "language_info": {
   "codemirror_mode": {
    "name": "ipython",
    "version": 3
   },
   "file_extension": ".py",
   "mimetype": "text/x-python",
   "name": "python",
   "nbconvert_exporter": "python",
   "pygments_lexer": "ipython3",
   "version": "3.8.10"
  },
  "orig_nbformat": 4
 },
 "nbformat": 4,
 "nbformat_minor": 2
}
