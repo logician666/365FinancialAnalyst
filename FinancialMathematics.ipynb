{
 "cells": [
  {
   "attachments": {},
   "cell_type": "markdown",
   "metadata": {},
   "source": [
    "# Time Value of Money"
   ]
  },
  {
   "attachments": {},
   "cell_type": "markdown",
   "metadata": {},
   "source": [
    "## Effective Annual Rate (EAR)\n",
    "\n",
    "The stated annual rate ignores the effect of compounding and reports the interest rate as the interest  \n",
    "rate per period (the periodic interest rate) multiplied by the number of periods per annum. Thus, to  \n",
    "restate the interest rate as the rate which is effictively from a 1-year investement, the following equation  \n",
    "is assumed:  \n",
    "\n",
    "$\n",
    "EffictiveAnnualRate = (1 + \\frac{StatedAnnualRate}{m})^m - 1\n",
    "$,\n",
    "  \n",
    "where, $m$ is the number of periods per annum, and $\\frac{StatedAnnualRate}{m}$  \n",
    "is the __periodic interest rate__.  \n",
    "\n",
    "It is to be noted that the only case when the effective annual rate is equal to the stated annual  \n",
    "rate is when the period of compounding is equal to 1. [We have no mathematical proof of that in the moment!]"
   ]
  },
  {
   "cell_type": "code",
   "execution_count": 30,
   "metadata": {},
   "outputs": [],
   "source": [
    "# A Pythonic implementation of the EAR function\n",
    "ear = lambda r_s, m: (1 + r_s/m)**m - 1"
   ]
  },
  {
   "attachments": {},
   "cell_type": "markdown",
   "metadata": {},
   "source": [
    "# Moving Money Through Time"
   ]
  },
  {
   "attachments": {},
   "cell_type": "markdown",
   "metadata": {},
   "source": [
    "## Future Value Formula"
   ]
  },
  {
   "attachments": {},
   "cell_type": "markdown",
   "metadata": {},
   "source": [
    "\n",
    "### Future Value of a Single Cash Flow\n",
    "The future value of a single cash flow when interest is compounded annually is calculated through  \n",
    "the following function:  \n",
    "\n",
    "$\n",
    "FV_N = PV \\cdot (1 + r)^N\n",
    "$,  \n",
    "\n",
    "where:  \n",
    "$PV$ is the present value of the investment,  \n",
    "$FV_N$ is the future value of the investment $N$ periods from now,  \n",
    "$r$ is the rate of interest per period, and  \n",
    "$N$ is the number of compounding periods.\n"
   ]
  },
  {
   "attachments": {},
   "cell_type": "markdown",
   "metadata": {},
   "source": [
    "### Future Value (Multiple Compounding Periods)\n",
    "Given a stated annual rate compounded a number of periods per annum, the following equation calculates  \n",
    "the future value of a single cash flow:  \n",
    "\n",
    "$\n",
    "FV_N = PV \\cdot (1 + \\frac{r_s}{m})^{mN}\n",
    "$,  \n",
    "where:  \n",
    "$r_s$ is the stated annual interest rate,  \n",
    "$m$ is the number of compounding periods per annum, and  \n",
    "$N$ is the number of years.\n",
    "\n",
    "Note that when $m = 1$, this formula is simplified to the one for calculating [future value of a single cash flow](#future-value-of-a-single-cash-flowa)."
   ]
  },
  {
   "cell_type": "code",
   "execution_count": 31,
   "metadata": {},
   "outputs": [],
   "source": [
    "# A Pythonic implementation of the future value function\n",
    "fv_n = lambda pv, r_s, n, m=1: pv * (1 + r_s/m)**(n*m)"
   ]
  },
  {
   "attachments": {},
   "cell_type": "markdown",
   "metadata": {},
   "source": [
    "## Present Value of a Single Cash Flow\n",
    "\n",
    "From the forumla of a future value fo a single cash flow, we deduce the formula for present  \n",
    "value of a single cash flow to be as follows:  \n",
    "\n",
    "$\n",
    "PV = \\frac{FV_N}{(1 + \\frac{r_s}{m})^{mN}}\n",
    "$,  \n",
    "where the variables are the same as in the [future value formula of a single cash flow](#future-value-formula).\n"
   ]
  },
  {
   "cell_type": "code",
   "execution_count": 32,
   "metadata": {},
   "outputs": [],
   "source": [
    "# A Pythonic implementation of the formula of the present value of a single cash flow\n",
    "pv = lambda fv_n_, r_s, n, m=1: fv_n(fv_n_, r_s, -n, m)"
   ]
  },
  {
   "attachments": {},
   "cell_type": "markdown",
   "metadata": {},
   "source": [
    "## Moving Money Through Time"
   ]
  },
  {
   "attachments": {},
   "cell_type": "markdown",
   "metadata": {},
   "source": [
    "### Solution to Example 1\n",
    "\n",
    "The future value of the investment made (in USD) is calculated as follows:"
   ]
  },
  {
   "cell_type": "code",
   "execution_count": 33,
   "metadata": {},
   "outputs": [
    {
     "data": {
      "text/plain": [
       "3379.4777597859184"
      ]
     },
     "execution_count": 33,
     "metadata": {},
     "output_type": "execute_result"
    }
   ],
   "source": [
    "fv_n(3_000, 0.06, 2, 4)"
   ]
  },
  {
   "attachments": {},
   "cell_type": "markdown",
   "metadata": {},
   "source": [
    "An alternative solution is to calculate the effective annual rate of the stated annual rate  \n",
    "and use it to calculate the future value of the investment as follows:"
   ]
  },
  {
   "cell_type": "code",
   "execution_count": 34,
   "metadata": {},
   "outputs": [
    {
     "name": "stdout",
     "output_type": "stream",
     "text": [
      "Effective Annual Rate = 0.06136\n",
      "FV = $ 3379.4777597859184\n"
     ]
    }
   ],
   "source": [
    "ear_1 = ear(0.06, 4)\n",
    "fv_n_1 = fv_n(3_000, ear_1, 2)\n",
    "\n",
    "print(\n",
    "    f\"Effective Annual Rate = {ear_1:.4}\",\n",
    "    f\"FV = $ {fv_n_1}\",\n",
    "    sep='\\n'\n",
    ")"
   ]
  },
  {
   "attachments": {},
   "cell_type": "markdown",
   "metadata": {},
   "source": [
    "### Solution to Example 2\n"
   ]
  },
  {
   "attachments": {},
   "cell_type": "markdown",
   "metadata": {},
   "source": [
    "The present value of an investment that yields USD 10,000 after 3 year at a 12% interest rate  \n",
    "can be calculated as follows:"
   ]
  },
  {
   "cell_type": "code",
   "execution_count": 35,
   "metadata": {},
   "outputs": [
    {
     "data": {
      "text/plain": [
       "6989.249496272587"
      ]
     },
     "execution_count": 35,
     "metadata": {},
     "output_type": "execute_result"
    }
   ],
   "source": [
    "pv(10_000, 0.12, 3, 12)"
   ]
  },
  {
   "attachments": {},
   "cell_type": "markdown",
   "metadata": {},
   "source": [
    "Or alternatevly, the effective annual rate may be computed and used in the present value  \n",
    "for a single cash flow formula:"
   ]
  },
  {
   "cell_type": "code",
   "execution_count": 37,
   "metadata": {},
   "outputs": [
    {
     "data": {
      "text/plain": [
       "6989.24949627259"
      ]
     },
     "execution_count": 37,
     "metadata": {},
     "output_type": "execute_result"
    }
   ],
   "source": [
    "pv(10_000, ear(0.12, 12), 3)"
   ]
  },
  {
   "attachments": {},
   "cell_type": "markdown",
   "metadata": {},
   "source": [
    "\n",
    "### The Effect of Compounding Frequency: Continuous Compounding\n",
    "\n",
    "When the compounding frequency is assumed infinit, the follwoing formula computes the future value  \n",
    "of a made investment:  \n",
    "$\n",
    "FV_N = PV \\cdot \\mathrm{e}^{r_s N}\n",
    "$,  \n",
    "where:  \n",
    " * $PV$ is the investment made  \n",
    " * $\\mathrm{e}$ is the Euler number  \n",
    " * $r_s$ is the stated annual interest rate, and  \n",
    " * $N$ is the number of years of the investment."
   ]
  },
  {
   "cell_type": "code",
   "execution_count": null,
   "metadata": {},
   "outputs": [],
   "source": []
  }
 ],
 "metadata": {
  "kernelspec": {
   "display_name": "Python 3",
   "language": "python",
   "name": "python3"
  },
  "language_info": {
   "codemirror_mode": {
    "name": "ipython",
    "version": 3
   },
   "file_extension": ".py",
   "mimetype": "text/x-python",
   "name": "python",
   "nbconvert_exporter": "python",
   "pygments_lexer": "ipython3",
   "version": "3.11.2"
  },
  "orig_nbformat": 4
 },
 "nbformat": 4,
 "nbformat_minor": 2
}
